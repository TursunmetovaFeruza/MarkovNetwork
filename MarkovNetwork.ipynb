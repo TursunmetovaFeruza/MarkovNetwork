{
 "cells": [
  {
   "cell_type": "code",
   "execution_count": 1,
   "id": "723dfbef",
   "metadata": {},
   "outputs": [],
   "source": [
    "import pandas as pd"
   ]
  },
  {
   "cell_type": "code",
   "execution_count": 2,
   "id": "3b5647c3",
   "metadata": {},
   "outputs": [],
   "source": [
    "import numpy as np\n",
    "from pgmpy.models import MarkovNetwork\n",
    "from pgmpy.factors.discrete import DiscreteFactor"
   ]
  },
  {
   "cell_type": "code",
   "execution_count": 3,
   "id": "4425cdf2",
   "metadata": {},
   "outputs": [],
   "source": [
    "data = pd.read_csv('./Diet_R.csv')\n",
    "# clean the data from incomplete entries  \n",
    "data = data.replace(' ', np.nan)    \n",
    "data.dropna(inplace = True)"
   ]
  },
  {
   "cell_type": "code",
   "execution_count": 4,
   "id": "521a3700",
   "metadata": {},
   "outputs": [],
   "source": [
    "G=MarkovNetwork()"
   ]
  },
  {
   "cell_type": "code",
   "execution_count": 5,
   "id": "52bd08ef",
   "metadata": {},
   "outputs": [],
   "source": [
    "df=pd.DataFrame(data, columns=[ 'gender', 'Age', 'Height', 'pre.weight', 'Diet', 'weight6weeks'])"
   ]
  },
  {
   "cell_type": "code",
   "execution_count": 6,
   "id": "c1ef2975",
   "metadata": {},
   "outputs": [],
   "source": [
    "# replace range of the values to one value for deal with memory issues\n",
    "gender = list(map(int, df['gender'].values.tolist()))\n",
    "Age=pd.cut(df['Age'], bins = [20,25,30,35,40,45,50,55,60,65],labels=[20,25,30,35,40,45,50,55,60])\n",
    "Height=pd.cut(df['Height'], bins = [150,160,170,180,190,200],labels=[150,160,170,180,190])\n",
    "preWeight=pd.cut(df['pre.weight'], bins = [50,60,70,80,90,100],labels=[50,60,70,80,90])\n",
    "Diet=df['Diet'].values.tolist()\n",
    "weight6weeks=pd.cut(df['weight6weeks'], bins = [50,60,70,80,90,100],labels=[50,60,70,80,90])"
   ]
  },
  {
   "cell_type": "code",
   "execution_count": 7,
   "id": "3d38df0e",
   "metadata": {},
   "outputs": [],
   "source": [
    "def unique(list1): \n",
    "    x = np.array(list1) \n",
    "    return np.unique(x)\n",
    "\n",
    "def two_param(list1, list2): \n",
    "    a = unique(list1) \n",
    "    b = unique(list2) \n",
    "    values_for_v1_v2 = [] \n",
    "    for aa  in a: \n",
    "        for bb in b:\n",
    "            values_for_v1_v2.append(((list1==aa)&(list2==bb)).sum())\n",
    "    return values_for_v1_v2\n",
    "\n",
    "def three_param(list1, list2, list3): \n",
    "    a = unique(list1) \n",
    "    b = unique(list2) \n",
    "    c = unique(list3)\n",
    "    values_for_v1_v2_v3 = [] \n",
    "    for aa  in a: \n",
    "        for bb in b:\n",
    "            for cc in c:\n",
    "                values_for_v1_v2_v3.append(((list1==aa)&(list2==bb)&(list3==cc)).sum())\n",
    "    return values_for_v1_v2_v3"
   ]
  },
  {
   "cell_type": "code",
   "execution_count": 8,
   "id": "70a20059-7bed-436a-83c2-07a1e14a5882",
   "metadata": {},
   "outputs": [],
   "source": [
    "value1 = two_param(gender,Age)\n",
    "value2 = three_param(gender,Age,Height)\n",
    "value3 = three_param(Height, preWeight, Diet)\n",
    "value4 = two_param(Age, weight6weeks)\n",
    "value5 = three_param(gender,Diet,weight6weeks)"
   ]
  },
  {
   "cell_type": "code",
   "execution_count": 9,
   "id": "24793382",
   "metadata": {},
   "outputs": [],
   "source": [
    "G.add_nodes_from([ 'gender', 'Age', 'Height', 'pre.weight', 'Diet', 'weight6weeks'])"
   ]
  },
  {
   "cell_type": "code",
   "execution_count": 10,
   "id": "ece9510e",
   "metadata": {},
   "outputs": [],
   "source": [
    "G.add_edges_from([('gender', 'Age'), ('gender','Age','Height'), ('Height', 'pre.weight', 'Diet'), ('Age', 'weight6weeks'), ('gender','Diet','weight6weeks')])"
   ]
  },
  {
   "cell_type": "code",
   "execution_count": 11,
   "id": "eff9bead",
   "metadata": {},
   "outputs": [],
   "source": [
    "factor1 = DiscreteFactor(['gender', 'Age'], cardinality=[2, 9], values=value1)\n",
    "factor2 = DiscreteFactor(['gender','Age','Height'], cardinality=[2,9,6], values=value2)\n",
    "factor3 = DiscreteFactor(['Height', 'pre.weight', 'Diet'], cardinality=[6,4,3], values=value3)\n",
    "factor4 = DiscreteFactor(['Age', 'weight6weeks'], cardinality=[9, 4], values=value4)\n",
    "factor5 = DiscreteFactor(['gender','Diet','weight6weeks'], cardinality=[2, 3, 4], values=value5)"
   ]
  },
  {
   "cell_type": "code",
   "execution_count": 12,
   "id": "225e7517",
   "metadata": {},
   "outputs": [],
   "source": [
    "G.add_factors(factor1)\n",
    "G.add_factors(factor2)\n",
    "G.add_factors(factor3)\n",
    "G.add_factors(factor4)\n",
    "G.add_factors(factor5)"
   ]
  },
  {
   "cell_type": "code",
   "execution_count": 13,
   "id": "cb4a5805",
   "metadata": {},
   "outputs": [
    {
     "data": {
      "text/plain": [
       "[<DiscreteFactor representing phi(gender:2, Age:9) at 0x2402166b250>,\n",
       " <DiscreteFactor representing phi(gender:2, Age:9, Height:6) at 0x2407d9cda20>,\n",
       " <DiscreteFactor representing phi(Height:6, pre.weight:4, Diet:3) at 0x2402166b880>,\n",
       " <DiscreteFactor representing phi(Age:9, weight6weeks:4) at 0x240216b4fd0>,\n",
       " <DiscreteFactor representing phi(gender:2, Diet:3, weight6weeks:4) at 0x2407d97a800>]"
      ]
     },
     "execution_count": 13,
     "metadata": {},
     "output_type": "execute_result"
    }
   ],
   "source": [
    "G.get_factors()"
   ]
  },
  {
   "cell_type": "code",
   "execution_count": 14,
   "id": "a72533bf",
   "metadata": {},
   "outputs": [
    {
     "data": {
      "text/plain": [
       "(gender ⟂ weight6weeks, pre.weight, Height | Diet, Age)\n",
       "(Age ⟂ pre.weight, Diet, Height | weight6weeks, gender)\n",
       "(Height ⟂ weight6weeks, Diet, Age, gender | pre.weight)\n",
       "(pre.weight ⟂ weight6weeks, Diet, Age, gender | Height)\n",
       "(Diet ⟂ weight6weeks, pre.weight, Age, Height | gender)\n",
       "(weight6weeks ⟂ pre.weight, Diet, gender, Height | Age)"
      ]
     },
     "execution_count": 14,
     "metadata": {},
     "output_type": "execute_result"
    }
   ],
   "source": [
    "G.get_local_independencies()"
   ]
  },
  {
   "cell_type": "code",
   "execution_count": 15,
   "id": "62876177",
   "metadata": {},
   "outputs": [],
   "source": [
    "# initial data before normalization\n",
    "Ptilda=factor1*factor2*factor3*factor4*factor5"
   ]
  },
  {
   "cell_type": "code",
   "execution_count": 16,
   "id": "6ff6e7ab",
   "metadata": {},
   "outputs": [],
   "source": [
    "P=Ptilda"
   ]
  },
  {
   "cell_type": "code",
   "execution_count": 17,
   "id": "b5be1a36",
   "metadata": {},
   "outputs": [
    {
     "name": "stdout",
     "output_type": "stream",
     "text": [
      "+-----------+---------------+\n",
      "| gender    |   phi(gender) |\n",
      "+===========+===============+\n",
      "| gender(0) |   251219.0000 |\n",
      "+-----------+---------------+\n",
      "| gender(1) |   275573.0000 |\n",
      "+-----------+---------------+\n",
      "+--------+-------------+\n",
      "| Age    |    phi(Age) |\n",
      "+========+=============+\n",
      "| Age(0) |   3070.0000 |\n",
      "+--------+-------------+\n",
      "| Age(1) |  23708.0000 |\n",
      "+--------+-------------+\n",
      "| Age(2) |  57795.0000 |\n",
      "+--------+-------------+\n",
      "| Age(3) | 289799.0000 |\n",
      "+--------+-------------+\n",
      "| Age(4) |  70551.0000 |\n",
      "+--------+-------------+\n",
      "| Age(5) |  57017.0000 |\n",
      "+--------+-------------+\n",
      "| Age(6) |  22344.0000 |\n",
      "+--------+-------------+\n",
      "| Age(7) |   2508.0000 |\n",
      "+--------+-------------+\n",
      "| Age(8) |      0.0000 |\n",
      "+--------+-------------+\n",
      "+-----------+---------------+\n",
      "| Height    |   phi(Height) |\n",
      "+===========+===============+\n",
      "| Height(0) |    39093.0000 |\n",
      "+-----------+---------------+\n",
      "| Height(1) |   278631.0000 |\n",
      "+-----------+---------------+\n",
      "| Height(2) |   181515.0000 |\n",
      "+-----------+---------------+\n",
      "| Height(3) |     6714.0000 |\n",
      "+-----------+---------------+\n",
      "| Height(4) |    20839.0000 |\n",
      "+-----------+---------------+\n",
      "| Height(5) |        0.0000 |\n",
      "+-----------+---------------+\n",
      "+---------------+-------------------+\n",
      "| pre.weight    |   phi(pre.weight) |\n",
      "+===============+===================+\n",
      "| pre.weight(0) |        41181.0000 |\n",
      "+---------------+-------------------+\n",
      "| pre.weight(1) |       193191.0000 |\n",
      "+---------------+-------------------+\n",
      "| pre.weight(2) |       218886.0000 |\n",
      "+---------------+-------------------+\n",
      "| pre.weight(3) |        73534.0000 |\n",
      "+---------------+-------------------+\n",
      "+---------+-------------+\n",
      "| Diet    |   phi(Diet) |\n",
      "+=========+=============+\n",
      "| Diet(0) | 157205.0000 |\n",
      "+---------+-------------+\n",
      "| Diet(1) | 169135.0000 |\n",
      "+---------+-------------+\n",
      "| Diet(2) | 200452.0000 |\n",
      "+---------+-------------+\n",
      "+-----------------+---------------------+\n",
      "| weight6weeks    |   phi(weight6weeks) |\n",
      "+=================+=====================+\n",
      "| weight6weeks(0) |          25511.0000 |\n",
      "+-----------------+---------------------+\n",
      "| weight6weeks(1) |         222468.0000 |\n",
      "+-----------------+---------------------+\n",
      "| weight6weeks(2) |         251165.0000 |\n",
      "+-----------------+---------------------+\n",
      "| weight6weeks(3) |          27648.0000 |\n",
      "+-----------------+---------------------+\n"
     ]
    }
   ],
   "source": [
    "print(P.marginalize([   'Age', 'Height', 'pre.weight', 'Diet', 'weight6weeks'], inplace=False))\n",
    "print(P.marginalize([  'gender', 'Height', 'pre.weight', 'Diet', 'weight6weeks'], inplace=False))\n",
    "print(P.marginalize([  'gender', 'Age', 'pre.weight', 'Diet', 'weight6weeks'], inplace=False))\n",
    "print(P.marginalize([  'gender', 'Age', 'Height', 'Diet', 'weight6weeks'], inplace=False))\n",
    "print(P.marginalize([  'gender', 'Age', 'Height', 'pre.weight', 'weight6weeks'], inplace=False))\n",
    "print(P.marginalize([  'gender', 'Age', 'Height', 'pre.weight', 'Diet'], inplace=False))"
   ]
  },
  {
   "cell_type": "code",
   "execution_count": 18,
   "id": "682de874",
   "metadata": {},
   "outputs": [],
   "source": [
    "#normilization\n",
    "P.normalize()"
   ]
  },
  {
   "cell_type": "code",
   "execution_count": 19,
   "id": "019f7b58",
   "metadata": {},
   "outputs": [
    {
     "name": "stdout",
     "output_type": "stream",
     "text": [
      "+-----------+---------------+\n",
      "| gender    |   phi(gender) |\n",
      "+===========+===============+\n",
      "| gender(0) |        0.4769 |\n",
      "+-----------+---------------+\n",
      "| gender(1) |        0.5231 |\n",
      "+-----------+---------------+\n"
     ]
    }
   ],
   "source": [
    "P_gender=P.marginalize([  'Age', 'Height', 'pre.weight', 'Diet', 'weight6weeks'], inplace=False)\n",
    "print(P_gender)"
   ]
  },
  {
   "cell_type": "code",
   "execution_count": 20,
   "id": "7710c204",
   "metadata": {},
   "outputs": [
    {
     "name": "stdout",
     "output_type": "stream",
     "text": [
      "+--------+------------+\n",
      "| Age    |   phi(Age) |\n",
      "+========+============+\n",
      "| Age(0) |     0.0058 |\n",
      "+--------+------------+\n",
      "| Age(1) |     0.0450 |\n",
      "+--------+------------+\n",
      "| Age(2) |     0.1097 |\n",
      "+--------+------------+\n",
      "| Age(3) |     0.5501 |\n",
      "+--------+------------+\n",
      "| Age(4) |     0.1339 |\n",
      "+--------+------------+\n",
      "| Age(5) |     0.1082 |\n",
      "+--------+------------+\n",
      "| Age(6) |     0.0424 |\n",
      "+--------+------------+\n",
      "| Age(7) |     0.0048 |\n",
      "+--------+------------+\n",
      "| Age(8) |     0.0000 |\n",
      "+--------+------------+\n"
     ]
    }
   ],
   "source": [
    "P_Age = P.marginalize([  'gender', 'Height', 'pre.weight', 'Diet', 'weight6weeks'], inplace=False)\n",
    "print(P_Age)"
   ]
  },
  {
   "cell_type": "code",
   "execution_count": 21,
   "id": "ecafe80d",
   "metadata": {},
   "outputs": [
    {
     "name": "stdout",
     "output_type": "stream",
     "text": [
      "+-----------+---------------+\n",
      "| Height    |   phi(Height) |\n",
      "+===========+===============+\n",
      "| Height(0) |        0.0742 |\n",
      "+-----------+---------------+\n",
      "| Height(1) |        0.5289 |\n",
      "+-----------+---------------+\n",
      "| Height(2) |        0.3446 |\n",
      "+-----------+---------------+\n",
      "| Height(3) |        0.0127 |\n",
      "+-----------+---------------+\n",
      "| Height(4) |        0.0396 |\n",
      "+-----------+---------------+\n",
      "| Height(5) |        0.0000 |\n",
      "+-----------+---------------+\n"
     ]
    }
   ],
   "source": [
    "P_Height = P.marginalize([  'gender', 'Age', 'pre.weight', 'Diet', 'weight6weeks'], inplace=False)\n",
    "print(P_Height)"
   ]
  },
  {
   "cell_type": "code",
   "execution_count": 22,
   "id": "7a7910be",
   "metadata": {},
   "outputs": [
    {
     "name": "stdout",
     "output_type": "stream",
     "text": [
      "+---------------+-------------------+\n",
      "| pre.weight    |   phi(pre.weight) |\n",
      "+===============+===================+\n",
      "| pre.weight(0) |            0.0782 |\n",
      "+---------------+-------------------+\n",
      "| pre.weight(1) |            0.3667 |\n",
      "+---------------+-------------------+\n",
      "| pre.weight(2) |            0.4155 |\n",
      "+---------------+-------------------+\n",
      "| pre.weight(3) |            0.1396 |\n",
      "+---------------+-------------------+\n"
     ]
    }
   ],
   "source": [
    "P_preWeight = P.marginalize([  'gender', 'Age', 'Height', 'Diet', 'weight6weeks'], inplace=False)\n",
    "print(P_preWeight)"
   ]
  },
  {
   "cell_type": "code",
   "execution_count": 23,
   "id": "01c4561d",
   "metadata": {},
   "outputs": [
    {
     "name": "stdout",
     "output_type": "stream",
     "text": [
      "+---------+-------------+\n",
      "| Diet    |   phi(Diet) |\n",
      "+=========+=============+\n",
      "| Diet(0) |      0.2984 |\n",
      "+---------+-------------+\n",
      "| Diet(1) |      0.3211 |\n",
      "+---------+-------------+\n",
      "| Diet(2) |      0.3805 |\n",
      "+---------+-------------+\n"
     ]
    }
   ],
   "source": [
    "P_Diet = P.marginalize([  'gender', 'Age', 'Height', 'pre.weight', 'weight6weeks'], inplace=False)\n",
    "print(P_Diet)"
   ]
  },
  {
   "cell_type": "code",
   "execution_count": 24,
   "id": "56d0f2cf",
   "metadata": {},
   "outputs": [
    {
     "name": "stdout",
     "output_type": "stream",
     "text": [
      "+-----------------+---------------------+\n",
      "| weight6weeks    |   phi(weight6weeks) |\n",
      "+=================+=====================+\n",
      "| weight6weeks(0) |              0.0484 |\n",
      "+-----------------+---------------------+\n",
      "| weight6weeks(1) |              0.4223 |\n",
      "+-----------------+---------------------+\n",
      "| weight6weeks(2) |              0.4768 |\n",
      "+-----------------+---------------------+\n",
      "| weight6weeks(3) |              0.0525 |\n",
      "+-----------------+---------------------+\n"
     ]
    }
   ],
   "source": [
    "P_weight6weeks = P.marginalize([  'gender', 'Age', 'Height', 'pre.weight', 'Diet'], inplace=False)\n",
    "print(P_weight6weeks)"
   ]
  },
  {
   "cell_type": "code",
   "execution_count": null,
   "id": "ea7c3fbb",
   "metadata": {},
   "outputs": [],
   "source": [
    "# Comparing to the value before normalization the normalized values is less "
   ]
  }
 ],
 "metadata": {
  "kernelspec": {
   "display_name": "Python 3 (ipykernel)",
   "language": "python",
   "name": "python3"
  },
  "language_info": {
   "codemirror_mode": {
    "name": "ipython",
    "version": 3
   },
   "file_extension": ".py",
   "mimetype": "text/x-python",
   "name": "python",
   "nbconvert_exporter": "python",
   "pygments_lexer": "ipython3",
   "version": "3.10.2"
  }
 },
 "nbformat": 4,
 "nbformat_minor": 5
}
